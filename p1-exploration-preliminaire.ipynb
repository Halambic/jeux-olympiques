{
 "cells": [
  {
   "cell_type": "markdown",
   "metadata": {},
   "source": [
    "# P1. Exploration Préliminaire"
   ]
  },
  {
   "cell_type": "markdown",
   "metadata": {},
   "source": [
    "Le répertoire `/data` contient les résultats brutes des épreuves des jeux d'été et d'hiver pour une période donnée.\n",
    "\n",
    "On s'intéresse dans le cadre de cette partie P1 à l'exploration des résultats des JO d'été (fichier : `summer-olympics.csv`) en s'appuyant seulement sur des outils assez communs (explorateur de fichiers, éditeur de texte, traitement de texte, tableur...)  "
   ]
  },
  {
   "cell_type": "markdown",
   "metadata": {},
   "source": [
    "---"
   ]
  },
  {
   "cell_type": "markdown",
   "metadata": {},
   "source": [
    "### Question 1: Quel est le type (texte ou binaire) et le format de ce fichier ?"
   ]
  },
  {
   "cell_type": "markdown",
   "metadata": {},
   "source": [
    "**Le fichier `summer-olympics.csv` est un fichier text au format csv.**"
   ]
  },
  {
   "cell_type": "markdown",
   "metadata": {},
   "source": [
    "### Question 2: Quel est le format du fichier en question ? "
   ]
  },
  {
   "cell_type": "markdown",
   "metadata": {},
   "source": [
    "**csv**"
   ]
  },
  {
   "cell_type": "markdown",
   "metadata": {},
   "source": [
    "### Question 3: Décrire en quelques lignes ce format de fichier"
   ]
  },
  {
   "cell_type": "markdown",
   "metadata": {},
   "source": [
    "**Le csv autrement appelé \"comma-separated values\" est un format de texte ouvert représentant des données tabulaires\n",
    "sous forme de valeurs séparées par des virgules.**"
   ]
  },
  {
   "cell_type": "markdown",
   "metadata": {},
   "source": [
    "### Question 4: Donner des exemples d'autres formats de fichier pouvant être utilisé pour fournir des données similaires "
   ]
  },
  {
   "cell_type": "markdown",
   "metadata": {},
   "source": [
    "**Il existe pour exemple également les formats XML, JSON.**"
   ]
  },
  {
   "cell_type": "markdown",
   "metadata": {},
   "source": [
    "### Question 5: Décrire le contenu du fichier considéré  "
   ]
  },
  {
   "cell_type": "markdown",
   "metadata": {},
   "source": [
    "**C'est un fichier que l'ont peut ouvrir via un logiciel de traitement de texte et/ou Jupyterlab pour exemple\n",
    "qui contient des données rangées correctement, répertoriant la liste complète des médaillés Olympiques depuis la première édition (1896) jusqu'à celle de Londre (2012), précisant un certain nombre d'informations comme l'année des JO, la ville ou les JO ont eu lieu, le sport concerné, la discipline concernée, le nom et prénom de l'athlète concerné, la nationalité de l'athlète, son genre, à quel évènement iel a été.e médaillé.e et enfin de quelle médaille il s'agit (Or, Argent, Bronze).**"
   ]
  },
  {
   "cell_type": "markdown",
   "metadata": {},
   "source": [
    "---\n",
    "### Remarque: \n",
    "**Pour les questions suivantes, indiquer d'abord la requête SQL permettant de répondre à la question posée **"
   ]
  },
  {
   "cell_type": "markdown",
   "metadata": {},
   "source": [
    "### Question 6: Combien d'enregistrements possède la table `summer` ?"
   ]
  },
  {
   "cell_type": "markdown",
   "metadata": {},
   "source": [
    "```sql\n",
    "-- Question 6\n",
    "\n",
    "````\n"
   ]
  },
  {
   "cell_type": "code",
   "execution_count": null,
   "metadata": {},
   "outputs": [],
   "source": [
    "Réponse 6:\n",
    "\n",
    "SELECT count(*)\n",
    "FROM summer"
   ]
  },
  {
   "cell_type": "markdown",
   "metadata": {},
   "source": [
    "Résultat: **31165**"
   ]
  },
  {
   "cell_type": "markdown",
   "metadata": {},
   "source": [
    "### Question 7: Quelle période des JO couvre ce fichier de résultats ?"
   ]
  },
  {
   "cell_type": "code",
   "execution_count": null,
   "metadata": {},
   "outputs": [],
   "source": [
    "SELECT min(Year), max(Year)\n",
    "FROM summer"
   ]
  },
  {
   "cell_type": "markdown",
   "metadata": {},
   "source": [
    "Résultat: **1896-2012**"
   ]
  },
  {
   "cell_type": "markdown",
   "metadata": {},
   "source": [
    "### Question 8: Indiquer les années et villes des olympiades présentes dans ce jeu de données ? \n"
   ]
  },
  {
   "cell_type": "code",
   "execution_count": null,
   "metadata": {},
   "outputs": [],
   "source": [
    "SELECT DISTINCT Year\n",
    "FROM summer"
   ]
  },
  {
   "cell_type": "code",
   "execution_count": null,
   "metadata": {},
   "outputs": [],
   "source": [
    "Résulats:\n",
    "1896\tAthens\n",
    "1900\tParis\n",
    "1904\tSt Louis\n",
    "1908\tLondon\n",
    "1912\tStockholm\n",
    "1920\tAntwerp\n",
    "1924\tParis\n",
    "1928\tAmsterdam\n",
    "1932\tLos Angeles\n",
    "1936\tBerlin\n",
    "1948\tLondon\n",
    "1952\tHelsinki\n",
    "1956\tMelbourne / Stockholm\n",
    "1960\tRome\n",
    "1964\tTokyo\n",
    "1968\tMexico\n",
    "1972\tMunich\n",
    "1976\tMontreal\n",
    "1980\tMoscow\n",
    "1984\tLos Angeles\n",
    "1988\tSeoul\n",
    "1992\tBarcelona\n",
    "1996\tAtlanta\n",
    "2000\tSydney\n",
    "2004\tAthens\n",
    "2008\tBeijing\n",
    "2012\tLondon"
   ]
  },
  {
   "cell_type": "markdown",
   "metadata": {},
   "source": [
    "### Question i: "
   ]
  },
  {
   "cell_type": "code",
   "execution_count": null,
   "metadata": {},
   "outputs": [],
   "source": []
  },
  {
   "cell_type": "markdown",
   "metadata": {},
   "source": [
    "--- "
   ]
  },
  {
   "cell_type": "markdown",
   "metadata": {},
   "source": [
    "Fin"
   ]
  }
 ],
 "metadata": {
  "kernelspec": {
   "display_name": "Python 3",
   "language": "python",
   "name": "python3"
  },
  "language_info": {
   "codemirror_mode": {
    "name": "ipython",
    "version": 3
   },
   "file_extension": ".py",
   "mimetype": "text/x-python",
   "name": "python",
   "nbconvert_exporter": "python",
   "pygments_lexer": "ipython3",
   "version": "3.8.6"
  }
 },
 "nbformat": 4,
 "nbformat_minor": 4
}
