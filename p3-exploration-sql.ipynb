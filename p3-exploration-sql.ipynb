{
 "cells": [
  {
   "cell_type": "markdown",
   "metadata": {},
   "source": [
    "# P3. Exploration SQL"
   ]
  },
  {
   "cell_type": "markdown",
   "metadata": {},
   "source": [
    "Le répertoire `/db` contient une base de données SQLite3 `olympics.sqbpro` reprenant les résultats des épreuves des jeux d'été pour une période donnée (cf P1 & P2).\n",
    "\n",
    "On s'intéresse dans le cadre de cette partie P3 à l'exploration via SQL des résultats des JO d'été (table : `summer`)."
   ]
  },
  {
   "cell_type": "markdown",
   "metadata": {},
   "source": [
    "---"
   ]
  },
  {
   "cell_type": "markdown",
   "metadata": {},
   "source": [
    "### Question 1: Qu'est ce que SQL ?"
   ]
  },
  {
   "cell_type": "markdown",
   "metadata": {},
   "source": [
    "**SQL (sigle de Structured Query Language, en français langage de requête structurée) est un langage informatique normalisé servant à exploiter des bases de données relationnelles. La partie langage de manipulation des données de SQL permet de rechercher, d'ajouter, de modifier ou de supprimer des données dans les bases de données relationnelles.**\n",
    "\n",
    "(**Source:** https://fr.wikipedia.org/wiki/Structured_Query_Language)"
   ]
  },
  {
   "cell_type": "markdown",
   "metadata": {},
   "source": [
    "### Question 2: Qu'est ce que SQLite 3 ? Avantages et/ou Inconvénients ?"
   ]
  },
  {
   "cell_type": "markdown",
   "metadata": {},
   "source": [
    "**SQLite est simplement la version 3 de SQlite\n",
    "L'avantage de la version 3 par rapport à la version 2 est qu'elle ajoute, entre autres, la régionalisation (avec le support des collations et de l'Unicode) et la déclaration des types.**\n",
    "\n",
    "**SQLite est un projet à source ouverte disponible dans le domaine public.\n",
    "MySQL est un projet open source qui appartient à Oracle.**\n",
    "\n",
    "**SQLite est une base de données sans serveur et est autonome. Elle est également appelée base de données intégrée, ce qui signifie que le moteur de la base de données fonctionne comme une partie de l'application.**\n",
    "\n",
    "**D'autre part, MySQL nécessite un serveur pour fonctionner. MySQL nécessitera une architecture client et serveur pour interagir sur un réseau.**\n",
    "\n",
    "(**Source**: https://fr.wikipedia.org/wiki/SQLite, https://www.hostinger.com/tutorials/sqlite-vs-mysql-whats-the-difference/#:~:text=SQLite%20is%20a%20server%2Dless,to%20interact%20over%20a%20network)."
   ]
  },
  {
   "cell_type": "markdown",
   "metadata": {},
   "source": [
    "### Question 3: Donner des exemples d'autres formats de fichier pouvant être utilisé pour fournir des données similaires "
   ]
  },
  {
   "cell_type": "markdown",
   "metadata": {},
   "source": [
    "**L'excel (.xlsm) ou encore l'OpenDocument (.odt)**"
   ]
  },
  {
   "cell_type": "markdown",
   "metadata": {},
   "source": [
    "### Question 4: Quel est le type (texte ou binaire) du fichier base de données SQLite3?"
   ]
  },
  {
   "cell_type": "markdown",
   "metadata": {},
   "source": [
    "Le fichier `olympics.sqbpro` est un fichier **binaire**"
   ]
  },
  {
   "cell_type": "markdown",
   "metadata": {},
   "source": [
    "### Question 5: Donner les caractéristiques de la table `summer` ? "
   ]
  },
  {
   "cell_type": "markdown",
   "metadata": {},
   "source": [
    "**9 colonnes (comprenant Year, City, Sport, Discipline, Athlete, Country, Gender, Event et Medal), 31165 lignes**"
   ]
  },
  {
   "cell_type": "markdown",
   "metadata": {},
   "source": [
    "---\n",
    "### Question 6: Combien d'enregistrements possède la table `summer` ?"
   ]
  },
  {
   "cell_type": "code",
   "execution_count": null,
   "metadata": {},
   "outputs": [],
   "source": [
    "Réponse 6:\n",
    "\n",
    "SELECT count(*)\n",
    "FROM summer"
   ]
  },
  {
   "cell_type": "markdown",
   "metadata": {},
   "source": [
    "Résultat: **31165**"
   ]
  },
  {
   "cell_type": "markdown",
   "metadata": {},
   "source": [
    "### Question 7: Quelle période des JO couvre ce fichier de résultats ?"
   ]
  },
  {
   "cell_type": "code",
   "execution_count": null,
   "metadata": {},
   "outputs": [],
   "source": [
    "SELECT min(Year), max(Year)\n",
    "FROM summer"
   ]
  },
  {
   "cell_type": "markdown",
   "metadata": {},
   "source": [
    "Résultat: **1896-2012**"
   ]
  },
  {
   "cell_type": "markdown",
   "metadata": {},
   "source": [
    "### Question 8: Indiquer les années et villes des olympiades ? "
   ]
  },
  {
   "cell_type": "code",
   "execution_count": null,
   "metadata": {},
   "outputs": [],
   "source": [
    "SELECT DISTINCT Year\n",
    "FROM summer"
   ]
  },
  {
   "cell_type": "code",
   "execution_count": null,
   "metadata": {},
   "outputs": [],
   "source": [
    "Résulats:\n",
    "1896\tAthens\n",
    "1900\tParis\n",
    "1904\tSt Louis\n",
    "1908\tLondon\n",
    "1912\tStockholm\n",
    "1920\tAntwerp\n",
    "1924\tParis\n",
    "1928\tAmsterdam\n",
    "1932\tLos Angeles\n",
    "1936\tBerlin\n",
    "1948\tLondon\n",
    "1952\tHelsinki\n",
    "1956\tMelbourne / Stockholm\n",
    "1960\tRome\n",
    "1964\tTokyo\n",
    "1968\tMexico\n",
    "1972\tMunich\n",
    "1976\tMontreal\n",
    "1980\tMoscow\n",
    "1984\tLos Angeles\n",
    "1988\tSeoul\n",
    "1992\tBarcelona\n",
    "1996\tAtlanta\n",
    "2000\tSydney\n",
    "2004\tAthens\n",
    "2008\tBeijing\n",
    "2012\tLondon"
   ]
  },
  {
   "cell_type": "markdown",
   "metadata": {},
   "source": [
    "### Q1. Combien la France a remporté de médailles d’or aux JO de 1984 ? - (Christophe)"
   ]
  },
  {
   "cell_type": "code",
   "execution_count": null,
   "metadata": {},
   "outputs": [],
   "source": [
    "SELECT count(*)\n",
    "FROM (\n",
    "SELECT DISTINCT  Sport, Discipline, Event, Gender\n",
    "FROM summer\n",
    "WHERE Year = 1984 AND Country = \"FRA\"  AND Medal = \"Gold\"\n",
    "GROUP BY Sport, Discipline, Event, Gender\n",
    ")"
   ]
  },
  {
   "cell_type": "markdown",
   "metadata": {},
   "source": [
    "**5**"
   ]
  },
  {
   "cell_type": "markdown",
   "metadata": {},
   "source": [
    "![Q1](pics/q1.png)"
   ]
  },
  {
   "cell_type": "markdown",
   "metadata": {},
   "source": [
    "### Q2. Quel pays a le plus d’athlètes (toutes années confondues) ? (Matthias)"
   ]
  },
  {
   "cell_type": "code",
   "execution_count": null,
   "metadata": {},
   "outputs": [],
   "source": [
    "SELECT Country AS Country, Count(DISTINCT Athlete) AS Athletes\n",
    "FROM summer\n",
    "GROUP BY Country\n",
    "ORDER BY count(Athlete) DESC\n",
    "LIMIT 1"
   ]
  },
  {
   "cell_type": "markdown",
   "metadata": {},
   "source": [
    "**USA\t3149**"
   ]
  },
  {
   "cell_type": "markdown",
   "metadata": {},
   "source": [
    "![Q2](pics/q2.png)"
   ]
  },
  {
   "cell_type": "markdown",
   "metadata": {},
   "source": [
    "### Q3. En 2012 combien de médailles le Japon a t-il gagné ? (Théo)"
   ]
  },
  {
   "cell_type": "code",
   "execution_count": null,
   "metadata": {},
   "outputs": [],
   "source": [
    "SELECT count(Medal)\n",
    "FROM summer\n",
    "WHERE Country = \"JPN\" AND Year = 2012"
   ]
  },
  {
   "cell_type": "markdown",
   "metadata": {},
   "source": [
    "**84**"
   ]
  },
  {
   "cell_type": "markdown",
   "metadata": {},
   "source": [
    "![Q3](pics/q3.png)"
   ]
  },
  {
   "cell_type": "markdown",
   "metadata": {},
   "source": [
    "### Q4. Dans quels différents sports les Grecs ont-ils gagné des médailles ? - (Corentin L)"
   ]
  },
  {
   "cell_type": "code",
   "execution_count": null,
   "metadata": {},
   "outputs": [],
   "source": [
    "SELECT Sport\n",
    "FROM summer\n",
    "WHERE Country = \"GRE\"\n",
    "GROUP BY Sport"
   ]
  },
  {
   "cell_type": "code",
   "execution_count": null,
   "metadata": {},
   "outputs": [],
   "source": [
    "Aquatics\n",
    "Athletics\n",
    "Cycling\n",
    "Fencing\n",
    "Gymnastics\n",
    "Judo\n",
    "Rowing\n",
    "Sailing\n",
    "Shooting\n",
    "Taekwondo\n",
    "Tennis\n",
    "Weightlifting\n",
    "Wrestling\n",
    "Donc 13 différents sports."
   ]
  },
  {
   "cell_type": "markdown",
   "metadata": {},
   "source": [
    "![Q4](pics/q4.png)"
   ]
  },
  {
   "cell_type": "markdown",
   "metadata": {},
   "source": [
    "### Q5. Quel pays a remporté le plus de médailles d’or ? (Philippe)"
   ]
  },
  {
   "cell_type": "code",
   "execution_count": null,
   "metadata": {},
   "outputs": [],
   "source": [
    "SELECT Country AS Country, count(Medal) \n",
    "FROM summer\n",
    "WHERE Medal = \"Gold\"\n",
    "GROUP BY Country\n",
    "ORDER BY count(Country) DESC\n",
    "LIMIT 5"
   ]
  },
  {
   "cell_type": "code",
   "execution_count": null,
   "metadata": {},
   "outputs": [],
   "source": [
    "USA\t2235\n",
    "URS\t838\n",
    "GBR\t546\n",
    "ITA\t476\n",
    "GER\t452\n",
    "Le pays ayant remporté le plus de médailles d'or sont les USA."
   ]
  },
  {
   "cell_type": "markdown",
   "metadata": {},
   "source": [
    "![Q5](pics/q5.png)"
   ]
  },
  {
   "cell_type": "markdown",
   "metadata": {},
   "source": [
    "### Q6. Combien de villes différentes ont accueilli les JO d’été entre 1896 - et 2012 ? (Yoann)"
   ]
  },
  {
   "cell_type": "code",
   "execution_count": null,
   "metadata": {},
   "outputs": [],
   "source": [
    "SELECT count(DISTINCT City) AS City\n",
    "FROM summer"
   ]
  },
  {
   "cell_type": "markdown",
   "metadata": {},
   "source": [
    "**22**"
   ]
  },
  {
   "cell_type": "markdown",
   "metadata": {},
   "source": [
    "![Q6](pics/q6.png)"
   ]
  },
  {
   "cell_type": "markdown",
   "metadata": {},
   "source": [
    "### Q7. Combien de femmes ont obtenu une médaille d’or ? (Lamia)"
   ]
  },
  {
   "cell_type": "code",
   "execution_count": null,
   "metadata": {},
   "outputs": [],
   "source": [
    "SELECT count(Gender)\n",
    "FROM summer\n",
    "WHERE Medal = \"Gold\" AND Gender = \"Women\""
   ]
  },
  {
   "cell_type": "markdown",
   "metadata": {},
   "source": [
    "**2788**"
   ]
  },
  {
   "cell_type": "markdown",
   "metadata": {},
   "source": [
    "![Q7](pics/q7.png)"
   ]
  },
  {
   "cell_type": "markdown",
   "metadata": {},
   "source": [
    "### Q8. Combien de sports différents sont représentés par année ? (joris)"
   ]
  },
  {
   "cell_type": "code",
   "execution_count": null,
   "metadata": {},
   "outputs": [],
   "source": [
    "SELECT Year as Year, count(DISTINCT Sport)\n",
    "FROM summer\n",
    "GROUP BY Year"
   ]
  },
  {
   "cell_type": "code",
   "execution_count": null,
   "metadata": {},
   "outputs": [],
   "source": [
    "1896\t9\n",
    "1900\t19\n",
    "1904\t16\n",
    "1908\t22\n",
    "1912\t14\n",
    "1920\t22\n",
    "1924\t17\n",
    "1928\t14\n",
    "1932\t14\n",
    "1936\t19\n",
    "1948\t17\n",
    "1952\t17\n",
    "1956\t17\n",
    "1960\t17\n",
    "1964\t19\n",
    "1968\t18\n",
    "1972\t21\n",
    "1976\t21\n",
    "1980\t21\n",
    "1984\t21\n",
    "1988\t23\n",
    "1992\t25\n",
    "1996\t26\n",
    "2000\t28\n",
    "2004\t28\n",
    "2008\t28\n",
    "2012\t26"
   ]
  },
  {
   "cell_type": "markdown",
   "metadata": {},
   "source": [
    "![Q8](pics/q8.png)"
   ]
  },
  {
   "cell_type": "markdown",
   "metadata": {},
   "source": [
    "### Q9. Combien de fois Londres a accueilli les J.O ? (Marvin)"
   ]
  },
  {
   "cell_type": "code",
   "execution_count": null,
   "metadata": {},
   "outputs": [],
   "source": [
    "SELECT City as City, count(DISTINCT Year)\n",
    "FROM summer\n",
    "WHERE City = \"London\""
   ]
  },
  {
   "cell_type": "code",
   "execution_count": null,
   "metadata": {},
   "outputs": [],
   "source": [
    "London\t3"
   ]
  },
  {
   "cell_type": "markdown",
   "metadata": {},
   "source": [
    "![Q9](pics/q9.png)"
   ]
  },
  {
   "cell_type": "markdown",
   "metadata": {},
   "source": [
    "### Q10. Combien de joueuses comptait la sélection brésilienne de volley-ball - médaillée d’or aux J.O de 2012 ? (Corentin P)"
   ]
  },
  {
   "cell_type": "code",
   "execution_count": null,
   "metadata": {},
   "outputs": [],
   "source": [
    "SELECT Country AS Country, Gender AS Gender, count(Gender)\n",
    "FROM summer\n",
    "WHERE Year = 2012 AND Gender = \"Women\" AND Country = \"BRA\" AND Medal = \"Gold\" AND Sport = \"Volleyball\""
   ]
  },
  {
   "cell_type": "code",
   "execution_count": null,
   "metadata": {},
   "outputs": [],
   "source": [
    "BRA\tWomen\t12"
   ]
  },
  {
   "cell_type": "markdown",
   "metadata": {},
   "source": [
    "![Q10](pics/q10.png)"
   ]
  },
  {
   "cell_type": "markdown",
   "metadata": {},
   "source": [
    "### Q11. Combien de femmes françaises ont participé en 2012 , quel sont leurs médailles ? (izak)"
   ]
  },
  {
   "cell_type": "code",
   "execution_count": null,
   "metadata": {},
   "outputs": [],
   "source": [
    "SELECT Gender as Gender, count(DISTINCT Athlete)\n",
    "FROM summer\n",
    "WHERE Gender = \"Women\" AND Year = 2012 AND Country = \"FRA\""
   ]
  },
  {
   "cell_type": "code",
   "execution_count": null,
   "metadata": {},
   "outputs": [],
   "source": [
    "Women\t29\n",
    "29 femmes françaises ont participé en 2012"
   ]
  },
  {
   "cell_type": "markdown",
   "metadata": {},
   "source": [
    "![Q11](pics/q11.png)"
   ]
  },
  {
   "cell_type": "code",
   "execution_count": null,
   "metadata": {},
   "outputs": [],
   "source": [
    "SELECT Medal as Medal, count(DISTINCT Athlete)\n",
    "FROM summer\n",
    "WHERE Gender = \"Women\" AND Year = 2012 AND Country = \"FRA\"\n",
    "GROUP BY Medal"
   ]
  },
  {
   "cell_type": "code",
   "execution_count": null,
   "metadata": {},
   "outputs": [],
   "source": [
    "Bronze\t12\n",
    "Gold\t4\n",
    "Silver\t15\n",
    "Leurs médailles sont 12 médailles de Bronze, 15 d'argent, 4 d'Or."
   ]
  },
  {
   "cell_type": "markdown",
   "metadata": {},
   "source": [
    "![Q11B](pics/q11b.png)"
   ]
  },
  {
   "cell_type": "markdown",
   "metadata": {},
   "source": [
    "### Q12. Quel est l’athlète qui a remporté le plus de médailles d’or ? - (mayel)"
   ]
  },
  {
   "cell_type": "code",
   "execution_count": null,
   "metadata": {},
   "outputs": [],
   "source": [
    "SELECT Athlete as Athlete, count(Medal)\n",
    "FROM summer\n",
    "WHERE Medal = \"Gold\"\n",
    "GROUP BY Athlete\n",
    "ORDER BY count(Medal)DESC\n",
    "LIMIT 5"
   ]
  },
  {
   "cell_type": "code",
   "execution_count": null,
   "metadata": {},
   "outputs": [],
   "source": [
    "PHELPS, Michael\t18\n",
    "SPITZ, Mark\t9\n",
    "NURMI, Paavo\t9\n",
    "LEWIS, Carl\t9\n",
    "LATYNINA, Larisa\t9\n",
    "L'athlète qui a remporté le plus de médailles d'or est Michael PHELPS avec ses 18 médailles d'or."
   ]
  },
  {
   "cell_type": "markdown",
   "metadata": {},
   "source": [
    "![Q12](pics/q12.png)"
   ]
  },
  {
   "cell_type": "markdown",
   "metadata": {},
   "source": [
    "### Q13. Est-ce que la France à déjà gagné une médaille d’or au cricket ? - (jordan)"
   ]
  },
  {
   "cell_type": "code",
   "execution_count": null,
   "metadata": {},
   "outputs": [],
   "source": [
    "SELECT count(medal)\n",
    "FROM summer\n",
    "WHERE Sport = \"Cricket\" AND Country = \"FRA\" AND Medal = \"Gold\""
   ]
  },
  {
   "cell_type": "code",
   "execution_count": null,
   "metadata": {},
   "outputs": [],
   "source": [
    "0"
   ]
  },
  {
   "cell_type": "markdown",
   "metadata": {},
   "source": [
    "![Q13](pics/q13.png)"
   ]
  },
  {
   "cell_type": "markdown",
   "metadata": {},
   "source": [
    "### Q14. Combien de médaillés ont un nom de famille de plus de 6 lettres en - excluant les années paires ? (jonathan)"
   ]
  },
  {
   "cell_type": "markdown",
   "metadata": {},
   "source": [
    "**Il n'y a aucun JO les années impaires, donc 0** (Merci Jonathan)"
   ]
  },
  {
   "cell_type": "markdown",
   "metadata": {},
   "source": [
    "### Q15. Le nombre de médailles d’or par pays en 2012 (Maëlle)"
   ]
  },
  {
   "cell_type": "code",
   "execution_count": null,
   "metadata": {},
   "outputs": [],
   "source": [
    "SELECT Country as Country, count(Medal)\n",
    "FROM summer\n",
    "WHERE Medal = \"Gold\" AND Year = 2012\n",
    "GROUP BY Country\n",
    "ORDER BY count(Medal) DESC"
   ]
  },
  {
   "cell_type": "code",
   "execution_count": null,
   "metadata": {},
   "outputs": [],
   "source": [
    "USA\t147\n",
    "CHN\t56\n",
    "GBR\t48\n",
    "RUS\t47\n",
    "GER\t45\n",
    "FRA\t30\n",
    "NED\t21\n",
    "AUS\t19\n",
    "MEX\t18\n",
    "KOR\t18\n",
    "ITA\t16\n",
    "NOR\t15\n",
    "CRO\t15\n",
    "BRA\t14\n",
    "HUN\t12\n",
    "UKR\t9\n",
    "NZL\t9\n",
    "JAM\t8\n",
    "JPN\t7\n",
    "RSA\t6\n",
    "ESP\t6\n",
    "IRI\t5\n",
    "CUB\t5\n",
    "PRK\t4\n",
    "CZE\t4\n",
    "BAH\t4\n",
    "POL\t3\n",
    "KAZ\t3\n",
    "ETH\t3\n",
    "DEN\t3\n",
    "BLR\t3\n",
    "TUN\t2\n",
    "SWE\t2\n",
    "SUI\t2\n",
    "ROU\t2\n",
    "LTU\t2\n",
    "KEN\t2\n",
    "AZE\t2\n",
    "\t2\n",
    "VEN\t1\n",
    "UZB\t1\n",
    "UGA\t1\n",
    "TUR\t1\n",
    "TTO\t1\n",
    "TPE\t1\n",
    "SRB\t1\n",
    "SLO\t1\n",
    "LAT\t1\n",
    "IRL\t1\n",
    "GRN\t1\n",
    "GEO\t1\n",
    "DOM\t1\n",
    "COL\t1\n",
    "CAN\t1\n",
    "ARG\t1\n",
    "ALG\t1"
   ]
  },
  {
   "cell_type": "markdown",
   "metadata": {},
   "source": [
    "![Q15](pics/q15.png)"
   ]
  },
  {
   "cell_type": "markdown",
   "metadata": {},
   "source": [
    "### Q16. Combien de femmes ont remporté des médailles ? (Alicia)"
   ]
  },
  {
   "cell_type": "code",
   "execution_count": null,
   "metadata": {},
   "outputs": [],
   "source": [
    "SELECT Gender AS Gender, count(DISTINCT Athlete)\n",
    "FROM summer\n",
    "WHERE Gender = \"Women\""
   ]
  },
  {
   "cell_type": "code",
   "execution_count": null,
   "metadata": {},
   "outputs": [],
   "source": [
    "Women\t5838"
   ]
  },
  {
   "cell_type": "markdown",
   "metadata": {},
   "source": [
    "![Q16](pics/q16.png)"
   ]
  },
  {
   "cell_type": "markdown",
   "metadata": {},
   "source": [
    "### Q17. Entre 1984 et 2012 combien de médailles a gagné la France ? (Abire)"
   ]
  },
  {
   "cell_type": "code",
   "execution_count": null,
   "metadata": {},
   "outputs": [],
   "source": [
    "SELECT count(Medal)\n",
    "FROM summer\n",
    "WHERE Year BETWEEN 1984 AND 2012 AND Country = \"FRA\""
   ]
  },
  {
   "cell_type": "markdown",
   "metadata": {},
   "source": [
    "**482**"
   ]
  },
  {
   "cell_type": "markdown",
   "metadata": {},
   "source": [
    "![Q17](pics/q17.png)"
   ]
  },
  {
   "cell_type": "markdown",
   "metadata": {},
   "source": [
    "### Question i: "
   ]
  },
  {
   "cell_type": "code",
   "execution_count": null,
   "metadata": {},
   "outputs": [],
   "source": []
  },
  {
   "cell_type": "markdown",
   "metadata": {},
   "source": [
    "--- "
   ]
  },
  {
   "cell_type": "markdown",
   "metadata": {},
   "source": [
    "Fin"
   ]
  }
 ],
 "metadata": {
  "kernelspec": {
   "display_name": "Python 3",
   "language": "python",
   "name": "python3"
  },
  "language_info": {
   "codemirror_mode": {
    "name": "ipython",
    "version": 3
   },
   "file_extension": ".py",
   "mimetype": "text/x-python",
   "name": "python",
   "nbconvert_exporter": "python",
   "pygments_lexer": "ipython3",
   "version": "3.8.6"
  }
 },
 "nbformat": 4,
 "nbformat_minor": 4
}
